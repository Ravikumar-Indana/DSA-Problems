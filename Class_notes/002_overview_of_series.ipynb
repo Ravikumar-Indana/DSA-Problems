{
 "cells": [
  {
   "cell_type": "code",
   "execution_count": 1,
   "id": "a12bf033",
   "metadata": {},
   "outputs": [],
   "source": [
    "import numpy as np\n",
    "import pandas as pd"
   ]
  },
  {
   "cell_type": "code",
   "execution_count": 3,
   "id": "da809a5f",
   "metadata": {},
   "outputs": [
    {
     "data": {
      "text/plain": [
       "Series([], dtype: object)"
      ]
     },
     "execution_count": 3,
     "metadata": {},
     "output_type": "execute_result"
    }
   ],
   "source": [
    "pd.Series()  # it is contains one row or one column of data"
   ]
  },
  {
   "cell_type": "code",
   "execution_count": 4,
   "id": "7bc93ac6",
   "metadata": {},
   "outputs": [
    {
     "data": {
      "text/plain": [
       "0    1\n",
       "1    2\n",
       "2    3\n",
       "3    4\n",
       "4    5\n",
       "dtype: int64"
      ]
     },
     "execution_count": 4,
     "metadata": {},
     "output_type": "execute_result"
    }
   ],
   "source": [
    "pd.Series([1, 2, 3, 4, 5])  # Create a simple Series with default index"
   ]
  },
  {
   "cell_type": "code",
   "execution_count": 6,
   "id": "2aeef07e",
   "metadata": {},
   "outputs": [
    {
     "data": {
      "text/plain": [
       "0    1\n",
       "1    2\n",
       "2    3\n",
       "3    4\n",
       "4    5\n",
       "dtype: int64"
      ]
     },
     "execution_count": 6,
     "metadata": {},
     "output_type": "execute_result"
    }
   ],
   "source": [
    "pd.Series(data=[1, 2, 3, 4, 5])"
   ]
  },
  {
   "cell_type": "code",
   "execution_count": 9,
   "id": "cd99fb33",
   "metadata": {},
   "outputs": [
    {
     "data": {
      "text/plain": [
       "0         Vanilla\n",
       "1       Chocolate\n",
       "2      Strawberry\n",
       "3       Mint Chip\n",
       "4    Cookie Dough\n",
       "dtype: object"
      ]
     },
     "execution_count": 9,
     "metadata": {},
     "output_type": "execute_result"
    }
   ],
   "source": [
    "ice_cream_flavors = (\n",
    "    pd.Series(data=[\"Vanilla\", \n",
    "                    \"Chocolate\", \n",
    "                    \"Strawberry\", \n",
    "                    \"Mint Chip\", \n",
    "                    \"Cookie Dough\"])\n",
    ")\n",
    "\n",
    "#pd.Series(data=ice_cream_flavors)\n",
    "pd.Series(ice_cream_flavors)"
   ]
  },
  {
   "cell_type": "code",
   "execution_count": 14,
   "id": "54b6d2c6",
   "metadata": {},
   "outputs": [
    {
     "data": {
      "text/plain": [
       "Monday            Vanilla\n",
       "Tuesday         Chocolate\n",
       "Wednesday      Strawberry\n",
       "Thursday        Mint Chip\n",
       "Friday       Cookie Dough\n",
       "Saturday       Rum Raisin\n",
       "Sunday          Pistachio\n",
       "dtype: object"
      ]
     },
     "execution_count": 14,
     "metadata": {},
     "output_type": "execute_result"
    }
   ],
   "source": [
    "ice_cream_flavors = [\n",
    "    \"Vanilla\",\n",
    "    \"Chocolate\",\n",
    "    \"Strawberry\",\n",
    "    \"Mint Chip\",\n",
    "    \"Cookie Dough\",\n",
    "    \"Rum Raisin\",\n",
    "    \"Pistachio\"\n",
    "]\n",
    "\n",
    "days_of_week = [\n",
    "    \"Monday\",\n",
    "    \"Tuesday\",\n",
    "    \"Wednesday\",\n",
    "    \"Thursday\",\n",
    "    \"Friday\",\n",
    "    \"Saturday\",\n",
    "    \"Sunday\"\n",
    "]\n",
    "\n",
    "#pd.Series(ice_cream_flavors)\n",
    "#pd.Series(days_of_week)\n",
    "\n",
    "pd.Series(data= ice_cream_flavors,index=days_of_week)"
   ]
  },
  {
   "cell_type": "code",
   "execution_count": 15,
   "id": "55cdd7ad",
   "metadata": {},
   "outputs": [
    {
     "data": {
      "text/plain": [
       "0     True\n",
       "1    False\n",
       "2    False\n",
       "dtype: bool"
      ]
     },
     "execution_count": 15,
     "metadata": {},
     "output_type": "execute_result"
    }
   ],
   "source": [
    "bunch_of_bools =[ True,False,False]\n",
    "\n",
    "pd.Series(bunch_of_bools)"
   ]
  },
  {
   "cell_type": "code",
   "execution_count": null,
   "id": "a3c1d4d7",
   "metadata": {},
   "outputs": [
    {
     "data": {
      "text/plain": [
       "Open     123.45\n",
       "Close    140.20\n",
       "dtype: float64"
      ]
     },
     "execution_count": 17,
     "metadata": {},
     "output_type": "execute_result"
    }
   ],
   "source": [
    "stock_prices = [123.45,140.20]\n",
    "time_of_day = [\"Open\", \"Close\"]\n",
    "pd.Series(stock_prices, index=time_of_day)\n",
    "pd.Series(data=stock_prices, index=time_of_day) # Same as above"
   ]
  },
  {
   "cell_type": "code",
   "execution_count": 18,
   "id": "e31841e9",
   "metadata": {},
   "outputs": [
    {
     "data": {
      "text/plain": [
       "0    10\n",
       "1    18\n",
       "2    24\n",
       "3    36\n",
       "4    38\n",
       "5    40\n",
       "6    51\n",
       "dtype: int64"
      ]
     },
     "execution_count": 18,
     "metadata": {},
     "output_type": "execute_result"
    }
   ],
   "source": [
    "random_numbers = [10,18,24,36,38,40,51]\n",
    "pd.Series(random_numbers)"
   ]
  },
  {
   "cell_type": "code",
   "execution_count": 20,
   "id": "864ec1df",
   "metadata": {},
   "outputs": [
    {
     "data": {
      "text/plain": [
       "0    10.0\n",
       "1    18.0\n",
       "2    24.0\n",
       "3    36.0\n",
       "4    38.0\n",
       "5    40.0\n",
       "6    51.0\n",
       "dtype: float64"
      ]
     },
     "execution_count": 20,
     "metadata": {},
     "output_type": "execute_result"
    }
   ],
   "source": [
    "random_numbers = [10,18,24,36,38,40,51]\n",
    "pd.Series(random_numbers,dtype=np.float64)  # Specify data type as float64"
   ]
  },
  {
   "cell_type": "code",
   "execution_count": 23,
   "id": "db77b2c4",
   "metadata": {},
   "outputs": [
    {
     "data": {
      "text/plain": [
       "0     1\n",
       "1     4\n",
       "2     6\n",
       "3     1\n",
       "4    19\n",
       "dtype: int32"
      ]
     },
     "execution_count": 23,
     "metadata": {},
     "output_type": "execute_result"
    }
   ],
   "source": [
    "random_number = np.random.randint(1, 20, size=5)\n",
    "pd.Series(random_number)"
   ]
  },
  {
   "cell_type": "code",
   "execution_count": 24,
   "id": "872b4511",
   "metadata": {},
   "outputs": [
    {
     "data": {
      "text/plain": [
       "0    30.5\n",
       "1    32.0\n",
       "2     NaN\n",
       "3    31.2\n",
       "dtype: float64"
      ]
     },
     "execution_count": 24,
     "metadata": {},
     "output_type": "execute_result"
    }
   ],
   "source": [
    "temperature = [30.5, 32.0, np.nan, 31.2]\n",
    "pd.Series(temperature)  # Series with NaN value"
   ]
  },
  {
   "cell_type": "code",
   "execution_count": 26,
   "id": "b9c0a4fb",
   "metadata": {},
   "outputs": [
    {
     "data": {
      "text/plain": [
       "biriyani    1000\n",
       "pizza        800\n",
       "burger       500\n",
       "pasta        600\n",
       "dtype: int64"
      ]
     },
     "execution_count": 26,
     "metadata": {},
     "output_type": "execute_result"
    }
   ],
   "source": [
    "food_items = {\n",
    "    \"biriyani\": 1000,\n",
    "    \"pizza\": 800,\n",
    "    \"burger\": 500,\n",
    "    \"pasta\": 600\n",
    "}\n",
    "pd.Series(food_items)  # Series with custom index from dictionary keys"
   ]
  },
  {
   "cell_type": "code",
   "execution_count": 27,
   "id": "6595580c",
   "metadata": {},
   "outputs": [],
   "source": [
    "calories = {\n",
    "    \"biriyani\": 1000,\n",
    "    \"pizza\": 800,\n",
    "    \"burger\": 500,\n",
    "    \"pasta\": 600\n",
    "}\n",
    "\n",
    "diet = pd.Series(calories)\n"
   ]
  },
  {
   "cell_type": "code",
   "execution_count": 28,
   "id": "3aab7536",
   "metadata": {},
   "outputs": [
    {
     "data": {
      "text/plain": [
       "Index(['biriyani', 'pizza', 'burger', 'pasta'], dtype='object')"
      ]
     },
     "execution_count": 28,
     "metadata": {},
     "output_type": "execute_result"
    }
   ],
   "source": [
    "diet.index  # Access the index of the Series"
   ]
  },
  {
   "cell_type": "code",
   "execution_count": 29,
   "id": "9c80b17d",
   "metadata": {},
   "outputs": [
    {
     "name": "stdout",
     "output_type": "stream",
     "text": [
      "<class 'pandas.core.series.Series'>\n",
      "Index: 4 entries, biriyani to pasta\n",
      "Series name: None\n",
      "Non-Null Count  Dtype\n",
      "--------------  -----\n",
      "4 non-null      int64\n",
      "dtypes: int64(1)\n",
      "memory usage: 236.0+ bytes\n"
     ]
    }
   ],
   "source": [
    "diet.info()"
   ]
  },
  {
   "cell_type": "code",
   "execution_count": 30,
   "id": "d407d674",
   "metadata": {},
   "outputs": [
    {
     "data": {
      "text/plain": [
       "count       4.000000\n",
       "mean      725.000000\n",
       "std       221.735578\n",
       "min       500.000000\n",
       "25%       575.000000\n",
       "50%       700.000000\n",
       "75%       850.000000\n",
       "max      1000.000000\n",
       "dtype: float64"
      ]
     },
     "execution_count": 30,
     "metadata": {},
     "output_type": "execute_result"
    }
   ],
   "source": [
    "diet.describe()"
   ]
  },
  {
   "cell_type": "code",
   "execution_count": 31,
   "id": "bcc18f6d",
   "metadata": {},
   "outputs": [
    {
     "data": {
      "text/plain": [
       "array([1000,  800,  500,  600])"
      ]
     },
     "execution_count": 31,
     "metadata": {},
     "output_type": "execute_result"
    }
   ],
   "source": [
    "diet.values"
   ]
  },
  {
   "cell_type": "code",
   "execution_count": 33,
   "id": "96d5f49f",
   "metadata": {},
   "outputs": [
    {
     "data": {
      "text/plain": [
       "4"
      ]
     },
     "execution_count": 33,
     "metadata": {},
     "output_type": "execute_result"
    }
   ],
   "source": [
    "diet.size  # Get the size of the Series"
   ]
  },
  {
   "cell_type": "code",
   "execution_count": 34,
   "id": "a3ba070f",
   "metadata": {},
   "outputs": [
    {
     "data": {
      "text/plain": [
       "(4,)"
      ]
     },
     "execution_count": 34,
     "metadata": {},
     "output_type": "execute_result"
    }
   ],
   "source": [
    "diet.shape  # Get the shape of the Series"
   ]
  },
  {
   "cell_type": "code",
   "execution_count": 35,
   "id": "82b1386d",
   "metadata": {},
   "outputs": [
    {
     "data": {
      "text/plain": [
       "dtype('int64')"
      ]
     },
     "execution_count": 35,
     "metadata": {},
     "output_type": "execute_result"
    }
   ],
   "source": [
    "diet.dtype"
   ]
  },
  {
   "cell_type": "code",
   "execution_count": 36,
   "id": "217fb2a9",
   "metadata": {},
   "outputs": [
    {
     "data": {
      "text/plain": [
       "True"
      ]
     },
     "execution_count": 36,
     "metadata": {},
     "output_type": "execute_result"
    }
   ],
   "source": [
    "diet.is_unique  # Check if the values in the Series are unique"
   ]
  },
  {
   "cell_type": "code",
   "execution_count": null,
   "id": "1d4f2c1b",
   "metadata": {},
   "outputs": [],
   "source": []
  }
 ],
 "metadata": {
  "kernelspec": {
   "display_name": "venv",
   "language": "python",
   "name": "python3"
  },
  "language_info": {
   "codemirror_mode": {
    "name": "ipython",
    "version": 3
   },
   "file_extension": ".py",
   "mimetype": "text/x-python",
   "name": "python",
   "nbconvert_exporter": "python",
   "pygments_lexer": "ipython3",
   "version": "3.12.7"
  }
 },
 "nbformat": 4,
 "nbformat_minor": 5
}
